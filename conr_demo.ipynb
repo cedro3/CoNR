{
  "cells": [
    {
      "cell_type": "markdown",
      "metadata": {
        "id": "view-in-github",
        "colab_type": "text"
      },
      "source": [
        "<a href=\"https://colab.research.google.com/github/cedro3/CoNR/blob/main/conr_demo.ipynb\" target=\"_parent\"><img src=\"https://colab.research.google.com/assets/colab-badge.svg\" alt=\"Open In Colab\"/></a>"
      ]
    },
    {
      "cell_type": "code",
      "execution_count": null,
      "metadata": {
        "id": "j6v8hfgi_OT5"
      },
      "outputs": [],
      "source": [
        "#@title #**セットアップ**\n",
        "\n",
        "# githubからコードをコピー\n",
        "!git clone https://github.com/cedro3/CoNR.git\n",
        "%cd CoNR\n",
        "!pip install -r requirements.txt\n",
        "\n",
        "#　学習済みパラメータのダウンロード\n",
        "!mkdir weights\n",
        "%cd weights\n",
        "!gdown https://drive.google.com/uc?id=1M1LEpx70tJ72AIV2TQKr6NE_7mJ7tLYx\n",
        "!gdown https://drive.google.com/uc?id=1YvZy3NHkJ6gC3pq_j8agcbEJymHCwJy0\n",
        "!gdown https://drive.google.com/uc?id=1AOWZxBvTo9nUf2_9Y7Xe27ZFQuPrnx9i\n",
        "!gdown https://drive.google.com/uc?id=19jM1-GcqgGoE1bjmQycQw_vqD9C5e-Jm\n",
        "\n",
        "# リセット・フォルダ関数\n",
        "import os\n",
        "import shutil\n",
        "def reset_folder(path):\n",
        "    if os.path.isdir(path):\n",
        "      shutil.rmtree(path)\n",
        "    os.makedirs(path,exist_ok=True)\n",
        "\n",
        "# フォルダ・コピー関数\n",
        "import os\n",
        "import glob\n",
        "def copy_dir(source_folder, dst_folder):\n",
        "    files = sorted(glob.glob(source_folder+'/*'))\n",
        "    for file in files:\n",
        "        shutil.copy(file, dst_folder+'/'+os.path.basename(file))\n",
        "\n",
        "# サンプルデータのダウンロード\n",
        "%cd /content/CoNR\n",
        "reset_folder('data')\n",
        "\n",
        "! gdown https://drive.google.com/uc?id=11HMSaEkN__QiAZSnCuaM6GI143xo62KO\n",
        "! unzip short_hair.zip\n",
        "! mv short_hair/ data/\n",
        "\n",
        "! gdown https://drive.google.com/uc?id=1WNnGVuU0ZLyEn04HzRKzITXqib1wwM4Q\n",
        "! unzip double_ponytail.zip\n",
        "! mv double_ponytail/ data/\n",
        "\n",
        "! gdown https://drive.google.com/uc?id=1r-3hUlENSWj81ve2IUPkRKNB81o9WrwT\n",
        "! unzip short_hair_images.zip\n",
        "! mv short_hair_images/ data/\n",
        "\n",
        "! gdown https://drive.google.com/uc?id=1XMrJf9Lk_dWgXyTJhbEK2LZIXL9G3MWc\n",
        "! unzip double_ponytail_images.zip\n",
        "! mv double_ponytail_images/ data/\n"
      ]
    },
    {
      "cell_type": "code",
      "source": [
        "#@title #**データ設定**\n",
        "\n",
        "#@markdown　styleでself_definedを選択して実行した場合は、別途posesフォルダとcharacter_sheetフォルダに必要なデータをアップロードして下さい。\n",
        "\n",
        "import shutil\n",
        "reset_folder('poses')\n",
        "reset_folder('character_sheet')\n",
        "\n",
        "style = 'double_ponytail' #@param ['double_ponytail', 'short_hair', 'self_defined']\n",
        "if style == 'short_hair':\n",
        "  copy_dir('data/short_hair', 'poses')\n",
        "  copy_dir('data/short_hair_images', 'character_sheet')\n",
        "elif style == 'double_ponytail':\n",
        "  copy_dir('data/double_ponytail', 'poses')\n",
        "  copy_dir('data/double_ponytail_images', 'character_sheet')  \n"
      ],
      "metadata": {
        "id": "j9mK-9rLY7op"
      },
      "execution_count": null,
      "outputs": []
    },
    {
      "cell_type": "code",
      "source": [
        "#@title #**キャラクターシートの表示**\n",
        "\n",
        "import cv2\n",
        "import numpy as np\n",
        "import os\n",
        "\n",
        "\n",
        "path ='/content/CoNR/character_sheet/'\n",
        "files= os.listdir(path)\n",
        "imgs = []\n",
        "for file in files:\n",
        "     if not os.path.isdir(file):\n",
        "          img = cv2.imread(path+\"/\"+file, cv2.IMREAD_UNCHANGED);\n",
        "          imgs.append(img)\n",
        "print(\"Num of character sheets:\", len(imgs))\n",
        "imgs = np.concatenate(imgs, 1)\n",
        "cv2.imwrite('character_sheet.png', imgs)\n",
        "\n",
        "from IPython.display import Image\n",
        "Image(filename='character_sheet.png') "
      ],
      "metadata": {
        "id": "_LVm0kwnRLLQ"
      },
      "execution_count": null,
      "outputs": []
    },
    {
      "cell_type": "code",
      "source": [
        "#@title #**アニメーションの作成**\n",
        "#@markdown サンプルデータのアニメーション化（49秒）には１時間弱かかります。途中で再度実行ボタンを押して、ストップさせることも出来ます。\n",
        "\n",
        "reset_folder('results')\n",
        "\n",
        "!python3 -m torch.distributed.launch \\\n",
        "--nproc_per_node=1 train.py --mode=test \\\n",
        "--world_size=1 --dataloaders=2 \\\n",
        "--test_input_poses_images=./poses/ \\\n",
        "--test_input_person_images=./character_sheet/ \\\n",
        "--test_output_dir=./results/ \\\n",
        "--test_checkpoint_dir=./weights/ "
      ],
      "metadata": {
        "id": "tjNldMZERLN4"
      },
      "execution_count": null,
      "outputs": []
    },
    {
      "cell_type": "code",
      "source": [
        "#@title #**動画の作成と表示**\n",
        "!ffmpeg -y -r 30 -y -i ./results/%d.png -r 30 -vcodec libx264 -pix_fmt yuv420p -loglevel error output.mp4 -r 30\n",
        "\n",
        "from IPython.display import HTML\n",
        "from base64 import b64encode\n",
        " \n",
        "def show_video(video_path, video_width = 600):\n",
        "  video_file = open(video_path, \"r+b\").read()\n",
        "  video_url = f\"data:video/mp4;base64,{b64encode(video_file).decode()}\"\n",
        "  return HTML(f\"\"\"<video width={video_width} controls><source src=\"{video_url}\"></video>\"\"\")\n",
        " \n",
        "show_video('output.mp4')"
      ],
      "metadata": {
        "id": "aC2HfuzSRLQg"
      },
      "execution_count": null,
      "outputs": []
    }
  ],
  "metadata": {
    "accelerator": "GPU",
    "colab": {
      "collapsed_sections": [],
      "name": "conr_demo",
      "provenance": [],
      "include_colab_link": true
    },
    "gpuClass": "standard",
    "kernelspec": {
      "display_name": "Python 3",
      "name": "python3"
    },
    "language_info": {
      "name": "python"
    }
  },
  "nbformat": 4,
  "nbformat_minor": 0
}